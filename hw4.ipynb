{
 "cells": [
  {
   "cell_type": "markdown",
   "metadata": {},
   "source": [
    "# Домашнее задание 3 [10 баллов]\n",
    "\n",
    "\n",
    "# До 27.03.18 23:59\n",
    "\n",
    "Рассмотрим задачу бинарной классификации. Пусть дано два списка имен: мужские и женские имена. Требуется разработать классификатор, который по данному имени будет определять мужское оно или женское.\n",
    "\n",
    "Данные: \n",
    "* Женские имена: female.txt\n",
    "* Мужские имена: male.txt"
   ]
  },
  {
   "cell_type": "markdown",
   "metadata": {},
   "source": [
    "## Часть 1. Предварительная\n",
    "\n",
    "### Предварительная обработка данных [2 балла]\n",
    "\n",
    "1. Удалите неоднозначные имена (те имена, которые являются и мужскими, и женскими дновременно), если такие есть; \n",
    "2. Создайте обучающее и тестовое множество так, чтобы в обучающем множестве классы были сбалансированы, т.е. к классу принадлежало бы одинаковое количество имен;"
   ]
  },
  {
   "cell_type": "code",
   "execution_count": 24,
   "metadata": {},
   "outputs": [
    {
     "name": "stdout",
     "output_type": "stream",
     "text": [
      "5001 2943\n"
     ]
    }
   ],
   "source": [
    "# прочитаем файлы\n",
    "female = open('female.txt', 'r').read().split('\\n')\n",
    "male = open('male.txt', 'r').read().split('\\n')\n",
    "print(len(female), len(male))"
   ]
  },
  {
   "cell_type": "code",
   "execution_count": 25,
   "metadata": {
    "collapsed": true
   },
   "outputs": [],
   "source": [
    "# найдем имена, которые одинаковы для двух списков\n",
    "result = set(female) & set(male)"
   ]
  },
  {
   "cell_type": "code",
   "execution_count": 30,
   "metadata": {
    "collapsed": true
   },
   "outputs": [],
   "source": [
    "# удалим их!\n",
    "female = list(set(female) - result)\n",
    "male = list(set(male) - result)"
   ]
  },
  {
   "cell_type": "code",
   "execution_count": 31,
   "metadata": {},
   "outputs": [
    {
     "name": "stdout",
     "output_type": "stream",
     "text": [
      "4636 2578\n"
     ]
    }
   ],
   "source": [
    "print(len(female), len(male))"
   ]
  },
  {
   "cell_type": "code",
   "execution_count": 32,
   "metadata": {},
   "outputs": [
    {
     "name": "stdout",
     "output_type": "stream",
     "text": [
      "['Tyler', 'Hale', 'Durant', 'Arthur', 'Nathanael', 'Mattheus', 'Wilburt', 'Kingsley', 'Hillel', 'Duffie', 'Matthus', 'Eli', 'Bing', 'Paton', 'Darrin', 'Nikos', 'Hanan', 'Petr', 'Collin', 'Tyrone', 'Davon', 'Roddie', 'Oren', 'Gordon', 'Ethelred', 'Niles', 'Antony', 'Sherwynd', 'Roberto', 'Roice', 'Tome', 'Felix', 'Rabbi', 'Prescott', 'Carsten', 'Derrick', 'Carson', 'Luis', 'Barnard', 'Gavriel', 'Jean-Francois', 'Neddie', 'Spiro', 'Terrance', 'Lancelot', 'Cyrill', 'Fergus', 'Jonathan', 'Thatcher', 'Kelvin', 'Samuel', 'Giles', 'Davy', 'Harrison', 'Creighton', 'Ritchie', 'Huey', 'Keith', 'Barrett', 'Martyn', 'Izaak', 'Jae', 'Michael', 'Dyson', 'Avram', 'Gamaliel', 'Dan', 'Vick', 'Noland', 'Ozzy', 'Isaak', 'Nev', 'Ignacius', 'Sly', 'Harald', 'Smitty', 'Gav', 'Horatius', 'Sheffie', 'Ferd', 'Antonio', 'Leonhard', 'Colbert', 'Prasad', 'Kareem', 'Sancho', 'Mohamed', 'Dexter', 'Shurwood', 'Tedman', 'Rutter', 'Tye', 'Barthel', 'Jens', 'Dino', 'Husein', 'Gaven', 'Nealon', 'Dimitry', 'Quigly', 'Tarzan', 'Morrie', 'Lazar', 'Flint', 'Sherman', 'Mahmoud', 'Anatollo', 'Leroy', 'Malcolm', 'Ansel', 'Larry', 'Silvan', 'Ramsay', 'Elroy', 'Evan', 'Monty', 'Morley', 'Randall', 'Giavani', 'Augusto', 'Buster', 'Troy', 'Linoel', 'Rudd', 'Whit', 'Bernhard', 'Averell', 'Staford', 'Morse', 'Taber', 'Emilio', 'Renard', 'Saunders', 'Obie', 'Yves', 'Spiros', 'Derron', 'Toddy', 'Markos', 'Phillipp', 'Tull', 'Victor', 'Roderic', 'Garry', 'Elric', 'Srinivas', 'Shelton', 'Ken', 'Sigmund', 'Aharon', 'Wilburn', 'Romeo', 'Zechariah', 'Eugen', 'Welby', 'Alan', 'Waine', 'Scottie', 'Javier', 'Abel', 'Meyer', 'Alwin', 'Merril', 'Chadwick', 'Tedrick', 'Berkie', 'Alley', 'Conroy', 'Thor', 'Engelbert', 'Jean-Luc', 'Partha', 'Thorvald', 'Dawson', 'Tirrell', 'Phip', 'Haywood', 'Rinaldo', 'Tedmund', 'Ambrosius', 'Ximenez', 'Lucien', 'Engelbart', 'Wallace', 'Willmott', 'Umberto', 'Clark', 'Sloane', 'Walther', 'Len', 'Hermon', 'Henry', 'Nigel', 'Reagan', 'Brandon', 'Neal', 'Odie', 'Ross', 'Woochang', 'Nathaniel', 'Harcourt', 'Diego', 'Salem', 'Karsten', 'Skye', 'Leonidas', 'Wit', 'Esau', 'Nicolas', 'Verge', 'Zerk', 'Rutledge', 'Elton', 'Prentiss', 'Jarvis', 'Elbert', 'Quill', 'Sawyere', 'Harrold', 'Trevar', 'Jerzy', 'Darius', 'Frederik', 'Ebeneser', 'Mohammed', 'Logan', 'Nelsen', 'Hewe', 'Arie', 'Rollin', 'Stearn', 'Rutherford', 'Vern', 'Ramesh', 'Christophe', 'Galen', 'Irvine', 'Wolf', 'Lion', 'Claus', 'Nevin', 'Simmonds', 'Zebulen', 'Joseph', 'Benson', 'Salvidor', 'Horacio', 'Griswold', 'Graig', 'Yuri', 'Odin', 'Ulric', 'Tobiah', 'Herrick', 'Arnold', 'Klaus', 'Nicholas', 'Gil', 'Titus', 'Adams', 'Mackenzie', 'Orrin', 'Waldon', 'Willey', 'Lovell', 'Arne', 'Ben', 'Nelson', 'Merrick', 'Barr', 'Alston', 'Fitz', 'Daren', 'Kelwin', 'Silvio', 'Reid', 'Salmon', 'Edsel', 'Kam', 'Odell', 'Sigfried', 'Clemens', 'Bud', 'Geoffry', 'Matthieu', 'Kincaid', 'Sparky', 'Sandor', 'Dick', 'Ugo', 'Edwin', 'Hamid', 'Arvin', 'Timotheus', 'Laurens', 'Jay', 'Hewett', 'Emmott', 'Herbert', 'Lucas', 'Iago', 'Bertrand', 'Apostolos', 'Alden', 'Jim', 'Bela', 'Benjy', 'Harvard', 'Joaquin', 'Boyce', 'Edward', 'Winthrop', 'Bennet', 'Ripley', 'Aristotle', 'Barn', 'Wyn', 'Meir', 'Brewer', 'Adam', 'Clint', 'Avraham', 'Thad', 'Gerrard', 'Hugh', 'Tailor', 'Lay', 'Normie', 'Dwaine', 'Herby', 'Broddie', 'Hadrian', 'Pincus', 'Byron', 'Garvy', 'Chrisy', 'Damon', 'Sebastian', 'Tyson', 'Wakefield', 'Gerhard', 'Olin', 'Maury', 'Lockwood', 'Zippy', 'Merlin', 'Pearce', 'Chandler', 'Witold', 'Raynor', 'Leo', 'Graehme', 'Konrad', 'Ezechiel', 'Elias', 'Ahmed', 'Salvatore', 'Napoleon', 'Tait', 'Terrill', 'Vince', 'Rodge', 'Vlad', 'Rand', 'Sargent', 'Cornelius', 'Xenos', 'Otho', 'Tonnie', 'Johnny', 'Weber', 'Toddie', 'Tremayne', 'Stillmann', 'Truman', 'Dwight', 'Hy', 'Dominick', 'Isidore', 'Doyle', 'Jacob', 'Hakeem', 'Wyatt', 'Gunter', 'Guthry', 'Lothar', 'Sim', 'Arnie', 'Denis', 'Carlyle', 'Marcello', 'Mickey', 'Webb', 'Marko', 'Baldwin', 'Marven', 'Pierson', 'Major', 'Rudiger', 'Quincey', 'Thaddus', 'Marten', 'Rogers', 'Cliff', 'Abdullah', 'Rab', 'Elliot', 'Skylar', 'Eduard', 'Hartley', 'Ez', 'Krishna', 'Pepillo', 'Selby', 'Marius', 'Joel', 'Kin', 'Renado', 'Garfinkel', 'Thacher', 'Klee', 'Ingram', 'Timothee', 'Odysseus', 'Al', 'Emile', 'Anatoly', 'Gordie', 'Ervin', 'Lev', 'Iggy', 'Woodie', 'Emil', 'Quinlan', 'Paul', 'Alfred', 'Barth', 'Thorndike', 'Jean-Marc', 'Antonius', 'Andrzej', 'Thaine', 'Fazeel', 'Abdul', 'Paolo', 'Abdel', 'Georges', 'Brian', 'Simeon', 'Teodoor', 'Hew', 'Hewitt', 'Madison', 'Pate', 'Bradly', 'Bartolomei', 'Dru', 'Erny', 'Gregorio', 'Duane', 'Douggie', 'Shannan', 'Newton', 'Ransom', 'Thom', 'Sanderson', 'Brad', 'Tre', 'Bearnard', 'Hilton', 'Mordecai', 'Westbrooke', 'Rolf', 'Ricardo', 'Vassili', 'Aron', 'Aditya', 'Lawton', 'Elnar', 'Pryce', 'Washington', 'Roni', 'Norton', 'Elmore', 'Kalle', 'Oberon', 'Damien', 'Otis', 'Alfonso', 'Arther', 'Herb', 'Hervey', 'Jessee', 'Filbert', 'Tobit', 'Salomo', 'Montague', 'Nate', 'Zeke', 'Kimball', 'August', 'Langston', 'Lenny', 'Niall', 'Voltaire', 'Warde', 'Levon', 'Giffie', 'Ransell', 'Johnathon', 'Karim', 'Norman', 'Reuven', 'Thedrick', 'Edouard', 'Paco', 'Izzy', 'Orazio', 'Heinz', 'Gustaf', 'Cyrille', 'Orion', 'Taddeo', 'Mohammad', 'Christos', 'Ellsworth', 'Vic', 'Mick', 'Sergio', 'Mustafa', 'Chase', 'Garey', 'Magnus', 'Tomlin', 'Fletch', 'Pembroke', 'Allah', 'Shaw', 'Terrel', 'Beaufort', 'Welsh', 'Hyman', 'Hanford', 'Bealle', 'Romain', 'Elvin', 'Sivert', 'Rahul', 'Cobby', 'Llewellyn', 'Vasily', 'Aldus', 'Andros', 'Barde', 'Murdoch', 'Nickolas', 'Pieter', 'Teador', 'Torre', 'Hamlen', 'Ludwig', 'Rowland', 'Derrek', 'Filmore', 'Frederich', 'Wesley', 'Keene', 'Raul', 'Lowell', 'Sturgis', 'Rupert', 'Vernon', 'Douglis', 'Jabez', 'Rodolfo', 'Nathanial', 'Ambrose', 'Tann', 'Andre', 'Buddy', 'Worthington', 'Skipton', 'Wallas', 'Seymour', 'Forrest', 'Zary', 'Kimmo', 'Wolfie', 'Kaspar', 'Maurits', 'Micheal', 'Butler', 'Miguel', 'Rudyard', 'Weylin', 'Aleksandrs', 'Christoph', 'Whitaker', 'Garwood', 'Laurance', 'Milo', 'Shadow', 'Sid', 'Theophyllus', 'Samson', 'Wayland', 'Davey', 'Aube', 'Barnabas', 'Royal', 'Bucky', 'Ernesto', 'Marshal', 'Jerri', 'Higgins', 'Cristopher', 'Christiano', 'Gaston', 'Hammad', 'Bryon', 'Zackariah', 'Chester', 'Myke', 'Rolland', 'Enrique', 'Byram', 'Alexei', 'Fabio', 'John', 'Lyndon', 'Derrol', 'Trent', 'Marco', 'Philip', 'Stanleigh', 'Stirling', 'Constantinos', 'Stanwood', 'Lamar', 'Murdock', 'Reginauld', 'Geraldo', 'Haskell', 'Kenton', 'Walton', 'Etienne', 'Solomon', 'Jephthah', 'Godard', 'Wolfram', 'Salman', 'Francisco', 'Wainwright', 'Aamir', 'Thurstan', 'Andonis', 'Clarence', 'Calhoun', 'Allin', 'Fitzgerald', 'Marilu', 'Rufe', 'Giff', 'Chanderjit', 'Park', 'Ricard', 'Davidson', 'Osbourn', 'Alphonse', 'Gasper', 'Monroe', 'Christofer', 'Harv', 'Gonzalo', 'Wylie', 'Quent', 'Talbert', 'Tybalt', 'Jermayne', 'Percy', 'Vilhelm', 'Marwin', 'Job', 'Markus', 'Hamlet', 'Titos', 'Noble', 'Teodoro', 'Menard', 'Harmon', 'Wood', 'Ulrick', 'Dewitt', 'Grover', 'Freemon', 'Manish', 'Cob', 'Gregor', 'Anton', 'Nels', 'Quintus', 'Hamnet', 'Douglass', 'Wilt', 'Donovan', 'Fowler', 'Nolan', 'Nero', 'Prince', 'Wilhelm', 'Jeremie', 'Jonny', 'Spense', 'Owen', 'Dante', 'Kingsly', 'Vito', 'Aleck', 'Barret', 'Slim', 'Gardener', 'Homer', 'Lance', 'Wells', 'Neel', 'Spenser', 'Baird', 'Pace', 'Alberto', 'Zared', 'Thorn', 'Averill', 'Pinchas', 'Milt', 'Ephrem', 'Conway', 'Bard', 'Ernie', 'Skell', 'Robert', 'Lex', 'Aub', 'Demetrius', 'Matthew', 'Everett', 'Reube', 'Ivor', 'Hiro', 'Purcell', 'Richie', 'Scott', 'Giacomo', 'Chaddy', 'Emmit', 'Russ', 'Hezekiah', 'Wye', 'Adlai', 'Scarface', 'Hayward', 'Keenan', 'Guy', 'Hewie', 'Dwain', 'Marlowe', 'Thaxter', 'Jud', 'Ashby', 'Johan', 'Sumner', 'Adolf', 'Towny', 'Trevor', 'Ximenes', 'Abbot', 'Darwin', 'Florian', 'Ingelbert', 'Sholom', 'Robbert', 'Ramon', 'Piotr', 'Tucky', 'Nickey', 'Walter', 'Clinten', 'Jarrett', 'Garcia', 'Maurie', 'Elijah', 'Murphy', 'Xymenes', 'Alonzo', 'Smith', 'Aguste', 'Churchill', 'Red', 'Willard', 'Duffy', 'Braden', 'Laird', 'Aldo', 'Marv', 'Penn', 'Ev', 'Godfrey', 'Tully', 'Udall', 'King', 'Haskel', 'Efram', 'Terence', 'Thain', 'Hayes', 'Gifford', 'Irvin', 'Zach', 'Prent', 'Travis', 'Wright', 'Cooper', 'Shanan', 'Orton', 'Sidnee', 'Xerxes', 'Hallam', 'Blaine', 'Ferdinand', 'Zeb', 'Marcus', 'Zane', 'Jesus', 'Arron', 'Wyatan', 'Kory', 'Jimmie', 'Ravil', 'Federico', 'Hamel', 'Sebastien', 'Willem', 'Todd', 'Arturo', 'Otes', 'Roosevelt', 'Mike', 'Townsend', 'Rich', 'Barty', 'Salomone', 'Ace', 'Dugan', 'Winfield', 'Kalman', 'Ulises', 'Hall', 'Bronson', 'Jeffrey', 'Parry', 'Alain', 'Andres', 'Carlos', 'Darth', 'Nestor', 'Nikolai', 'Fairfax', 'Danie', 'Frederick', 'Torr', 'Ahmad', 'Gerald', 'Chev', 'Vasili', 'Adair', 'Tab', 'Colin', 'Boris', 'Winfred', 'Deryl', 'Bailie', 'Connor', 'Shepard', 'Paten', 'Tadd', 'Demetri', 'Dennis', 'Stephan', 'Rodolphe', 'Ian', 'Waylin', 'Yale', 'Meier', 'Dieter', 'Darren', 'Chalmers', 'Derek', 'Norbert', 'Kenneth', 'Tod', 'Kendal', 'Ephrayim', 'Valdemar', 'Austen', 'Johnathan', 'Izak', 'Pip', 'Jeb', 'Ossie', 'Trev', 'Conrad', 'Greggory', 'Redmond', 'Goober', 'Amery', 'Vladamir', 'Richy', 'Pepe', 'Garrott', 'Skipper', 'Hasheem', 'Aram', 'Albrecht', 'Gomer', 'Sheridan', 'Hans', 'Sergent', 'Jessey', 'Hailey', 'Sylvan', 'Warren', 'Bernard', 'Chevalier', 'Godwin', 'Chelton', 'Harry', 'Kenn', 'Enrico', 'Seth', 'Yardley', 'Urban', 'Englebart', 'Kurtis', 'Mikael', 'Ulysses', 'Duncan', 'Kermie', 'Hamil', 'Reinhold', 'Sandro', 'Amadeus', 'Wayne', 'Amos', 'Carlo', 'Lloyd', 'Staffard', 'Ram', 'Saw', 'Win', 'Parsifal', 'Kermit', 'Stephanus', 'Ruben', 'Burt', 'Morten', 'Gregg', 'Neall', 'Socrates', 'Leighton', 'Osbert', 'Leopold', 'Mitchel', 'Gabriello', 'Alfonse', 'Dmitri', 'Wheeler', 'Jefferey', 'Flemming', 'Spike', 'Berk', 'Reg', 'Woodrow', 'Mahmud', 'Hector', 'Barnabe', 'Gonzales', 'Josh', 'Muhammad', 'Temp', 'Jeffie', 'Thayne', 'Beck', 'Burgess', 'Quigman', 'Slade', 'Sullivan', 'Charles', 'Matt', 'Nikita', 'Gilburt', 'Vassily', 'Wynton', 'Brant', 'Connolly', 'Teodor', 'Case', 'Tyrus', 'Ignace', 'Travers', 'Harwell', 'Igor', 'Hayden', 'Mikel', 'Stanley', 'Carl', 'Tarrant', 'Wiatt', 'Craig', 'Mac', 'Torrence', 'Dov', 'Mathew', 'Roman', 'Cobb', 'Stephen', 'Dwayne', 'Bartholemy', 'Kendrick', 'Benedict', 'Linus', 'Alister', 'Vachel', 'Remus', 'Moise', 'Lefty', 'Liam', 'Ferdie', 'Ingmar', 'Mahesh', 'Traver', 'Nester', 'Barny', 'Anurag', 'Sanders', 'Hilbert', 'Say', 'Anatole', 'Silvano', 'Natale', 'Nevins', 'Antoine', 'Elmer', 'Darian', 'Dewey', 'Orren', 'Bernardo', 'Bradley', 'Vinod', 'Apollo', 'Leonardo', 'Ronen', 'Tomas', 'Hartwell', 'Allen', 'Donn', 'Marlow', 'Maximilien', 'Omar', 'Syd', 'Baily', 'Ellwood', 'Hudson', 'Sampson', 'Sheffield', 'Tanney', 'Wadsworth', 'Lester', 'Freeman', 'Patin', 'Kenyon', 'Zacherie', 'Earl', 'Ezekiel', 'Sky', 'Remington', 'Jehu', 'Thornton', 'Ward', 'Wiley', 'Hebert', 'Griffin', 'Gustavo', 'Giordano', 'Sting', 'Welbie', 'Bartie', 'Fletcher', 'Lemmie', 'Nealson', 'Hasty', 'Heinrich', 'Trip', 'Salomon', 'Seamus', 'Prentice', 'Manny', 'Simon', 'Flem', 'Tanny', 'Andrew', 'Gabriele', 'Ambrosio', 'Yank', 'Hewet', 'Garrett', 'Isaiah', 'Ansell', 'Quint', 'Jasper', 'Woody', 'Gerrit', 'Jacques', 'Eldon', 'Rustin', 'Jose', 'Maxwell', 'Bartolemo', 'Talbot', 'Antoni', 'Fidel', 'Ravi', 'Mart', 'Avi', 'Rex', 'Andrus', 'Mohamad', 'Charlton', 'Darrick', 'Mohan', 'Brice', 'Bancroft', 'Siward', 'Zebulon', 'Moishe', 'Marsh', 'Skippie', 'Waring', 'Barclay', 'Jordon', 'Burl', 'Armond', 'Luther', 'Boniface', 'Ethan', 'Konstantin', 'Ludvig', 'Wilmer', 'Patric', 'Wilmar', 'Bart', 'Mendel', 'Iggie', 'Gregory', 'Tarrance', 'Rourke', 'Derk', 'Dabney', 'Levy', 'Alonso', 'Jory', 'Aldis', 'Giffy', 'Patricio', 'Sol', 'Warden', 'Dougie', 'Sarge', 'Dickie', 'Ajai', 'Terrell', 'Henri', 'Rabi', 'Bryant', 'Julius', 'Floyd', 'Giraldo', 'Shimon', 'Renault', 'Tito', 'Keefe', 'Prasun', 'Ragnar', 'Mario', 'Ron', 'Rodrick', 'Reza', 'Skippy', 'Cosmo', 'Guthrie', 'Wade', 'Joshua', 'Waverly', 'Jerome', 'Hamilton', 'Peirce', 'Morry', 'Ric', 'Udell', 'Farley', 'Ewan', 'Edgardo', 'West', 'Yehudi', 'Locke', 'Richmond', 'Torin', 'Munroe', 'Sven', 'Towney', 'Archie', 'Husain', 'Kostas', 'Sigfrid', 'Beowulf', 'Grove', 'Ephram', 'Bernd', 'Schuyler', 'Berchtold', 'Patrick', 'Maxim', 'Tamas', 'Grady', 'Ryan', 'Erasmus', 'Sutherland', 'Clayborne', 'Chip', 'Sanford', 'Judah', 'Osgood', 'Marcelo', 'Ulick', 'Parrnell', 'Giorgi', 'Joe', 'Myron', 'Hari', 'Lazarus', 'Barton', 'Obadias', 'Shurlocke', 'Tharen', 'Sutton', 'Zelig', 'Jonah', 'Dudley', 'Raymund', 'Rodney', 'Shep', 'Vergil', 'Kraig', 'Roddy', 'Rog', 'Frederic', 'Melvyn', 'Stefano', 'Luigi', 'Winslow', 'Felicio', 'Sammie', 'Chuck', 'Alasdair', 'Ritch', 'Martin', 'Mortie', 'Mose', 'Goddart', 'Renaud', 'Marmaduke', 'Mischa', 'Enoch', 'Goose', 'Jef', 'Emmery', 'Hart', 'Tymothy', 'Marlin', 'Zalman', 'Hadleigh', 'Adolpho', 'Jeremias', 'Ham', 'Roscoe', 'Eliot', 'Virgilio', 'Gilberto', 'Maximilian', 'Schroeder', 'Bartlet', 'Lucian', 'Albert', 'Cortese', 'Lionello', 'Rodolph', 'Giorgio', 'Arel', 'Ambrosi', 'Elvis', 'Stillman', 'Fredrick', 'Tom', 'Batholomew', 'Graham', 'Porter', 'Rudie', 'Giovanni', 'Albatros', 'Winston', 'Carleigh', 'Brodie', 'Barnaby', 'Joshuah', 'Ingamar', 'Giancarlo', 'Pablo', 'Arvind', 'Erick', 'Spence', 'Hercule', 'Fritz', 'Thorsten', 'Torrey', 'Fabian', 'Weidar', 'Riley', 'Ash', 'Chadd', 'Samuele', 'Penrod', 'Don', 'Lemmy', 'Eugene', 'Benn', 'Han', 'Rock', 'Fonsie', 'Sherlock', 'Merv', 'Mathias', 'Riccardo', 'Vincents', 'Darrel', 'Bennett', 'Alejandro', 'Christopher', 'Rodger', 'Web', 'Jotham', 'Barney', 'Allan', 'Ralph', 'Rollins', 'Taite', 'Janus', 'Aldrich', 'Claudio', 'Price', 'Lon', 'Welch', 'Alfonzo', 'Greg', 'Benjie', 'Mitch', 'Trenton', 'Zack', 'Armando', 'Erastus', 'Humbert', 'Huntley', 'Clifton', 'Thebault', 'Way', 'Kennedy', 'Clancy', 'Wolfy', 'Northrop', 'Nevile', 'Merill', 'Tobin', 'Spencer', 'Standford', 'Fleming', 'Parnell', 'Beauregard', 'Jerold', 'Roger', 'Elwood', 'Clayborn', 'Arlo', 'Englebert', 'Stevy', 'Knox', 'Waverley', 'Demetre', 'Constantin', 'Willdon', 'Pascal', 'Broderick', 'Frazier', 'Mika', 'Lennie', 'Hendrik', 'Ari', 'Sylvester', 'Arvie', 'Tiebold', 'Michail', 'Merwin', 'Adolphus', 'Ibrahim', 'Stafford', 'Forester', 'Hussein', 'Tedd', 'Clarke', 'Giovanne', 'Angelico', 'Beale', 'Winton', 'Garret', 'Myles', 'Nealy', 'Bertram', 'Jerald', 'Franklyn', 'Neddy', 'Orin', 'Michale', 'Gallagher', 'Will', 'Siddhartha', 'Marcellus', 'Angus', 'Tanner', 'Dimitrios', 'Richardo', 'Kirk', 'Lew', 'Flynn', 'Terrence', 'Lyle', 'Kingston', 'Heathcliff', 'Puff', 'Artie', 'Eben', 'Desmond', 'Emery', 'Briggs', 'Hastings', 'Paddy', 'Ernst', 'Elliott', 'Basil', 'Dom', 'Hill', 'Clyde', 'Hiralal', 'Milton', 'Baxter', 'Jethro', 'Alf', 'Theodoric', 'Nahum', 'Isaac', 'Justis', 'Lars', 'Orson', 'Clayton', 'Godfree', 'Waleed', 'Geoff', 'Joab', 'Waylon', 'Forster', 'Lemar', 'Nunzio', 'Aubert', 'Normand', 'Andreas', 'Maynord', 'Marvin', 'Stanton', 'Neron', 'Randolf', 'Westley', 'Robb', 'Stanislaw', 'Ezra', 'Ethelbert', 'Gaspar', 'Herculie', 'Dionysus', 'Richard', 'Mervin', 'Moses', 'Ozzie', 'Harvey', 'Eliott', 'Anthony', 'David', 'Dirk', 'Marcio', 'Shamus', 'Piet', 'James', 'Jonas', 'Abbott', 'Luke', 'Juergen', 'Verney', 'Brody', 'Earle', 'Gardner', 'Jason', 'Jakob', 'Ruddie', 'Trever', 'Parker', 'Tudor', 'Alaa', 'Ferguson', 'Chane', 'Sherwood', 'Giuseppe', 'Ferinand', 'Thane', 'Turner', 'Scot', 'Friedrick', 'Tiler', 'Pasquale', 'Ned', 'Dunc', 'Claybourne', 'Mason', 'Shem', 'Si', 'Claudius', 'Morty', 'Paddie', 'Garrot', 'Palmer', 'Lukas', 'Orlando', 'Durante', 'Eric', 'Emmanuel', 'Raphael', 'Raleigh', 'Dimitri', 'Walsh', 'Harlan', 'Son', 'Erik', 'Alessandro', 'Neale', 'Wyndham', 'Hogan', 'Garcon', 'Hunter', 'Johnnie', 'Radcliffe', 'Micah', 'Christorpher', 'Jerrome', 'Tedie', 'Plato', 'Jimmy', 'Augie', 'Gershon', 'Emanuel', 'Quiggly', 'Theobald', 'Yancy', 'Benji', 'Sinclair', 'Zebedee', 'Bruno', 'Tad', 'Jock', 'Oral', 'Gideon', 'Adger', 'Hugo', 'Tomkin', 'Cyrus', 'Haven', 'Abram', 'Johann', 'Sloan', 'Mortimer', 'Cain', 'Kristian', 'Pete', 'Adolfo', 'Sheldon', 'Wilber', 'Willis', 'Finley', 'Jorge', 'Berke', 'Urson', 'Lambert', 'Thorpe', 'Hymie', 'Sander', 'Mikhail', 'Emerson', 'Baron', 'Siegfried', 'Tynan', 'Noam', 'Axel', 'Ishmael', 'Dimitris', 'Raynard', 'Rudolfo', 'Raymond', 'Hubert', 'Sayers', 'Mikey', 'Bharat', 'Templeton', 'Worth', 'Urbanus', 'Wake', 'Gino', 'Zak', 'Johny', 'Cletus', 'Dietrich', 'Poul', 'Rocky', 'Merell', 'Bartel', 'Tadeas', 'Scotti', 'Er', 'Piggy', 'Sollie', 'Hendrick', 'Bary', 'Griff', 'Valentin', 'Ferdy', 'Xever', 'Somerset', 'Jervis', 'Kurt', 'Jeromy', 'See', 'Roland', 'Blayne', 'Benton', 'Elwyn', 'Layton', 'Whittaker', 'Zacharia', 'Olaf', 'Dryke', 'Ignaz', 'Russell', 'Rolfe', 'Dillon', 'Rutger', 'Dean', 'Ignacio', 'Pascale', 'Yanaton', 'Thedric', 'Gershom', 'Nathanil', 'Gunther', 'Durward', 'Olag', 'Rodrique', 'Adolph', 'Lamont', 'Olle', 'Stefan', 'Judas', 'Tan', 'Stu', 'Redford', 'Leon', 'Alec', 'Hiram', 'Cleland', 'Renato', 'Immanuel', 'Corwin', 'Garwin', 'Niels', 'Hamlin', 'Stavros', 'Anatol', 'Davis', 'Glynn', 'Janos', 'Rudolf', 'Hershel', 'Ely', 'Roth', 'Gustavus', 'Skyler', 'Foster', 'Rudolph', 'Lazare', 'Curtis', 'Yacov', 'Hans-Peter', 'Armstrong', 'Fonz', 'Saul', 'Rudy', 'Brady', 'Rob', 'Oswald', 'Gian', 'Zacharie', 'Orbadiah', 'Corbin', 'Petey', 'Henrik', 'Guillermo', 'Cameron', 'Garth', 'Charleton', 'French', 'Kenny', 'Stewart', 'Verne', 'Horace', 'Dane', 'Herschel', 'Garvin', 'Yard', 'Fox', 'Edgar', 'Davin', 'Reynolds', 'Hadley', 'Jimbo', 'Graeme', 'Oliver', 'Ulberto', 'Dylan', 'Peyton', 'Stanford', 'Pail', 'Ebenezer', 'Gordan', 'Tristan', 'Yance', 'Anson', 'Skelly', 'Stevie', 'Brock', 'Gerard', 'Bogart', 'Harlin', 'Oran', 'Adolphe', 'John-David', 'Jeremiah', 'Winn', 'Cheston', 'Phillip', 'Howard', 'Archon', 'Reynard', 'Micheil', 'Otto', 'Cobbie', 'Hank', 'Peter', 'Maxfield', 'Skipp', 'Jameson', 'Vernor', 'Quincy', 'Ernest', 'Sayer', 'Hoyt', 'Gearard', 'Carter', 'Thatch', 'Frans', 'Georg', 'Bradford', 'Derby', 'Eduardo', 'Rickey', 'Tobias', 'Westleigh', 'Augustin', 'Herman', 'Marchall', 'Bartholomeus', 'Julio', 'Reece', 'Sanson', 'Godart', 'Nilson', 'Warner', 'Matthiew', 'Berkley', 'Amory', 'Ashish', 'Buck', 'Dwane', 'Andrej', 'Moss', 'Percival', 'Rafe', 'Brent', 'Elwin', 'Pietro', 'Ingemar', 'Inglebert', 'Saxe', 'Fraser', 'Roy', 'Clarance', 'Zachery', 'Norris', 'Hillard', 'Salvador', 'Zeus', 'Padraig', 'Brinkley', 'Shepperd', 'Jean-Christophe', 'Silas', 'Rawley', 'Wolfgang', 'Archy', 'Sawyer', 'Charley', 'Aloysius', 'Oswell', 'Wilbert', 'Tabb', 'Matteo', 'Thornie', 'Dominic', 'Friedric', 'Crawford', 'Bartolomeo', 'Elihu', 'Finn', 'Rem', 'Shumeet', 'Shepherd', 'Jared', 'Alvin', 'Mort', 'Bruce', 'Lem', 'Vincent', 'Thurston', 'Luciano', 'Gerold', 'Irving', 'Mendie', 'Roderigo', 'Herve', 'Ole', 'Bryce', 'Thaddeus', 'Stanly', 'Vasilis', 'Sayres', 'Mayor', 'Broddy', 'Avery', 'Bret', 'Jereme', 'Kendall', 'Weider', 'Bengt', 'Cyril', 'Praneetf', 'Abe', 'Tam', 'Sherlocke', 'Yancey', 'Geo', 'Moshe', 'Magnum', 'Barbabas', 'Ty', 'Jule', 'Ralf', 'Lincoln', 'Louis', 'Davie', 'Rodrigo', 'Gabe', 'Noah', 'Artur', 'Fons', 'Forbes', 'Haydon', 'Anselm', 'Tray', 'Boyd', 'Avrom', 'Georgy', 'Virgil', 'Barnebas', 'Wilbur', 'Calvin', 'Matthias', 'Caldwell', 'Aldwin', 'Dustin', 'Horst', 'Jedediah', 'Caspar', 'Tucker', 'Silvanus', 'Geoffrey', 'Jeramie', 'Stern', 'Walt', 'Ruddy', 'Silvain', 'Westbrook', 'Thaddius', 'Maurice', 'Rollo', 'Jed', 'Erl', 'Laurent', 'Giffard', 'Jean-Pierre', 'Vernen', 'Marc', 'Dalton', 'Halvard', 'Webster', 'Aaron', 'Murray', 'Marlon', 'Franz', 'Barnett', 'Edmund', 'Hilliard', 'Sheppard', 'Binky', 'Davidde', 'Lemuel', 'Hassan', 'Rochester', 'Filip', 'Vijay', 'Ronald', 'Henderson', 'Jonathon', 'Mateo', 'Ivan', 'Silvester', 'Steffen', 'Manfred', 'Kalvin', 'Thomas', 'Aleks', 'Octavius', 'Xavier', 'Donald', 'Tuck', 'Dimitrou', 'Jake', 'Chas', 'Goddard', 'Woodman', 'Costa', 'Rufus', 'Che', 'Blare', 'Hirsch', 'Horatio', 'Helmuth', 'Mic', 'Windham', 'Bjorne', 'Thibaut', 'Randolph', 'Rik', 'Huntington', 'Hurley', 'Aylmer', 'Norwood', 'Ware', 'Burke', 'Marve', 'Tabor', 'Rice', 'Hyatt', 'Clemente', 'Waylen', 'Ashton', 'Joachim', 'Nils', 'Garp', 'Wang', 'Clay', 'Adrick', 'Alastair', 'Matthaeus', 'Aldric', 'Eberhard', 'Griffith', 'Maynard', 'Chance', 'Alphonso', 'Niccolo', 'Augustus', 'Reed', 'Josef', 'Benjamen', 'Zolly', 'Leonid', 'Rubin', 'Cleveland', 'Rainer', 'Rodd', 'Bjorn', 'Reese', 'Reuben', 'Ewart', 'Jefry', 'Ephraim', 'Wes', 'Archibold', 'Zed', 'Olivier', 'Antonin', 'Howie', 'Robinson', 'Shelden', 'Barris', 'Venkat', 'Barri', 'Harold', 'Torrance', 'Solly', 'Grant', 'Herold', 'Mayer', 'Roderich', 'Phineas', 'Dario', 'Neville', 'Cy', 'Heywood', 'Reynold', 'Andri', 'Nico', 'Alton', 'Mylo', 'Rafael', 'Parke', 'Fremont', 'Steward', 'Hobart', 'Bryan', 'Inigo', 'Burnaby', 'Mark', 'Mitchell', 'Moore', 'Shurlock', 'Gilbert', 'Mauricio', 'Harland', 'Saunder', 'Herrmann', 'Gibb', 'Alford', 'Ignazio', 'Jeff', 'Chevy', 'Broderic', 'Giffer', 'Rolph', 'Tuckie', 'Yaakov', 'Sidney', 'Steven', 'Harman', 'Maison', 'Waldo', 'Townie', 'Wald', 'Upton', 'Armand', 'Eustace', 'Uli', 'Bogdan', 'Sinclare', 'Jackson', 'Cornellis', 'Selig', 'Biff', 'Ignatius', 'Zorro', 'Friedrich', 'Orville', 'Urbain', 'Uriel', 'Ichabod', 'Stan', 'Garold', 'Stig', 'Everard', 'Lionel', 'Virge', 'Kristos', 'Edmond', 'Fulton', 'Yule', 'Garvey', 'Chancey', 'Herbie', 'Regen', 'Erhart', 'Lazaro', 'Monte', 'Sterling', 'Tremain', 'Jeth', 'Gustav', 'Mack', 'Randal', 'Morly', 'Dave', 'Forrester', 'Stinky', 'Ave', 'Levi', 'Wait', 'Stearne', 'Raymundo', 'Chaim', 'Derick', 'Elden', 'Antin', 'Rayner', 'Osborn', 'Kane', 'Louie', 'Domenic', 'Arnoldo', 'Gerome', 'Bishop', 'Jeremy', 'Emmet', 'Fernando', 'Desmund', 'Alexander', 'Nathan', 'Rockwell', 'Julian', 'Mugsy', 'Pierce', 'Easton', 'Humphrey', 'Euclid', 'Stew', 'Weston', 'Tymon', 'Hanson', 'Iain', 'Hillery', 'Manuel', 'Ruperto', 'Hakim', 'Hodge', 'Delmar', 'Vance', 'Marcos', 'Jordy', 'Munmro', 'Coleman', 'Perceval', 'Renaldo', 'Wilden', 'Roderick', 'Vail', 'Hercules', 'Abner', 'Serge', 'Preston', 'Wallache', 'Wendell', 'Antonino', 'Shalom', 'Fonzie', 'Bear', 'Bailey', 'Teodorico', 'Wilson', 'Esteban', 'Wash', 'Errol', 'Gustave', 'Levin', 'Quillan', 'Darin', 'Conan', 'Lenard', 'Walker', 'Christof', 'Tore', 'Noe', 'Donal', 'Ehud', 'Wittie', 'Rube', 'Istvan', 'Reinhard', 'Mace', 'Swen', 'Antone', 'Matias', 'Christ', 'Ismail', 'Skip', 'Francois', 'Patrik', 'Chaddie', 'Zacharias', 'Clifford', 'Benito', 'Emmett', 'Putnam', 'Hollis', 'Brewster', 'Lucius', 'Salim', 'Taddeus', 'Lorenzo', 'Temple', 'Worden', 'Leonard', 'Stanfield', 'Josephus', 'Derrin', 'Powell', 'Butch', 'Douglas', 'Vite', 'Wildon', 'Kalil', 'Zachariah', 'Fyodor', 'Gavin', 'Zollie', 'Bay', 'Jeffery', 'Leif', 'Rod', 'Chen', 'Shaughn', 'Aziz', 'Bartholomew', 'Whitman', 'Ambros', 'Hunt', 'Cole', 'Lonny', 'Berkeley', 'Jamey', 'John-Patrick', 'Hernando', 'Clement', 'Delbert', 'Quinton', 'Martino', 'Norm', 'Kent', 'Flipper', 'Bartlett', 'Kaleb', 'Northrup', 'Noach', 'Obadiah', 'Tulley', 'Miles', 'Rhett', 'Kristopher', 'Reggy', 'Collins', 'Tannie', 'Duke', 'Leonerd', 'Adnan', 'Angelo', 'Darien', 'Taylor', 'Kevin', 'Neil', 'Tremaine', 'Torry', 'Weslie', 'Bob', 'Bartholomeo', 'Zebadiah', 'Lawson', 'Juan', 'Nick', 'Thadeus', 'Emory', 'Benjamin', 'Felipe', 'Wilfred', 'Lucio', 'Filipe', 'Algernon', 'Sergeant', 'Quintin', 'Gerhardt', 'Kevan', 'Chauncey', 'Sax', 'Reginald', 'Wojciech', 'Russel', 'Casper', 'Art', 'Daryle', 'Rustie', 'Godfry', 'Erich', 'Tiebout', 'Werner', 'Sebastiano', 'Agamemnon', 'Terencio', 'Urbano', 'Gilles', 'Clive', 'Dunstan', 'Jeffry', 'Martainn', 'Niven', 'Pincas', 'Saunderson', 'Hersch', 'Drake', 'Uriah', 'Doug', 'Flinn', 'Baillie', 'Ramsey', 'Granville', 'Von', 'Agustin', 'Waldemar', 'Marcel', 'Harris', 'Garv', 'Sauncho', 'Erek', 'Tibold', 'Giraud', 'Wendel', 'Moises', 'Waiter', 'Archibald', 'Flin', 'Abelard', 'Philbert', 'Corky', 'Hagen', 'Ender', 'Hagan', 'Rick', 'Wendall', 'Bubba', 'Abraham', 'Curt', 'Oleg', 'Raimund', 'Winford', 'Yankee', 'Demosthenis', 'Forest', 'Hermann', 'Morris', 'Worthy', 'Huntlee', 'Uri', 'Clinton', 'Patel', 'Osmond', 'Saxon', 'Anders', 'Guillaume', 'Sig', 'Franklin', 'Rolando', 'Pepito', 'Rad', 'Les', 'Mattias', 'Ulrich', 'Lawerence', 'Wilek', 'Jack', 'Nevil', 'Thibaud', 'Barron', 'Henrique', 'Reggis', 'Rusty', 'William', 'Nichols', 'Sterne', 'Frederico', 'Lewis', 'Osmund', 'Randell', 'Domenico', 'Yigal', 'Thorny', 'Thorstein', 'Israel', 'Karl', 'Geof', 'Hersh', 'Jean-Lou', 'Erhard', 'Caleb', 'Sergei', 'Sansone', 'Zedekiah', 'Barnie', 'Steve', 'Chaunce', 'Royce', 'Waite', 'Shlomo', 'Hashim', 'Vaughn', 'Pavel', 'Mauritz', 'Wat', 'Brendan', 'Chariot', 'Davide', 'Keil', 'Abdulkarim', 'Judd', 'Ellis', 'Lawrence', 'Rajeev', 'Alic', 'Harvie', 'Moe', 'Vladimir', 'Hermy', 'Vaughan', 'Theodore', 'Caesar', 'Kaiser', 'Waylan', 'Dickey', 'Charlie', 'Othello', 'Erwin', 'Fredric', 'Josiah', 'Jermain', 'Morton', 'Roarke', 'Cesar', 'Sheff', 'Gary', 'Merrel', 'Jerrold', 'Wain', 'Lazlo', 'Bentley', 'Gere', 'Town', 'Wilfrid', 'Curtice', 'Walden', 'Jefferson', 'Bayard', 'Andrey', 'Stuart', 'Darrell', 'Jules', 'Trey', 'Timothy', 'Sully', 'Meredeth', 'Peyter', 'Carlton', 'Zachary', 'Vibhu', 'Arvy', 'Udale', 'Winifield', 'Irwin', 'Paulo', 'Garfield', 'Davoud', 'Theodor', 'Gunner', 'Reilly', 'Shorty', 'Johannes', 'Mitchael', 'Osbourne', 'Sheffy', 'Oscar', 'Alfredo', 'Wilton', 'Laurence', 'Pedro', 'Ahmet', 'Hansel', 'Cyrillus', 'Pierre', 'Egbert', 'Gardiner', 'Guido', 'Spud', 'Witty', 'Aguinaldo', 'Melvin', 'Raj', 'Marshall', 'Phillipe', 'Durand', 'Pyotr', 'Jon', 'Chet', 'Hamish', 'Francesco', 'Rickard', 'Damian', 'Judson', 'Siffre', 'Whitby', 'Jennings', 'Chan', 'Jean-Paul', 'Raoul', 'Montgomery', 'Vaclav', 'Joao', 'Ed', 'Osborne', 'Corby', 'Sherwin', 'Torrin', 'Guthrey', 'Rees', 'Hal', 'Ford', 'Burton']\n"
     ]
    }
   ],
   "source": [
    "print(male)"
   ]
  },
  {
   "cell_type": "markdown",
   "metadata": {},
   "source": [
    "##  Часть 2. Базовая \n",
    "\n",
    "### Базовый метод классификации [3 балла]\n",
    "\n",
    "Используйте метод наивного Байеса или логистическую регрессию для классификации имен: в качестве признаков используйте символьные $n$-граммы. Сравните результаты, получаемые при разных $n=2,3,4$ по $F$-мере и аккуратности. В каких случаях метод ошибается?\n",
    "\n",
    "Для генерации $n$-грамм используйте:"
   ]
  },
  {
   "cell_type": "code",
   "execution_count": 1,
   "metadata": {
    "collapsed": true
   },
   "outputs": [],
   "source": [
    "from nltk.util import ngrams"
   ]
  },
  {
   "cell_type": "markdown",
   "metadata": {},
   "source": [
    "##  Часть 3. Нейросетевая \n",
    "\n",
    "### Нейронная сеть [4 балла]\n",
    "\n",
    "\n",
    "Используйте  реккурентную нейронную сеть с  LSTM для решения задачи. В ней может быть несколько слоев с LSTM, несколько слоев c Bidirectional(LSTM).  У нейронной сети один выход, определяющий класс имени. \n",
    "\n",
    "Представление имени для классификации в этом случае: бинарная матрица размера (количество букв в алфавите $\\times$ максимальная длина имени). Обозначим его через $x$. Если первая буква имени a, то $x[1][1] = 1$, если вторая – b, то  $x[2][1] = 1$ – то есть, используется one hot encoding.  \n",
    "\n",
    "Не забудьте про регуляризацию нейронной сети дропаутами. \n",
    "\n",
    "Сравните результаты классификации разными методами. Какой метод лучше и почему?\n",
    "\n",
    "Сравните результаты, получаемые при разных значениях дропаута, разных числах узлов на слоях нейронной сети по $F$-мере и аккуратности. В каких случаях нейронная сеть ошибается?"
   ]
  },
  {
   "cell_type": "markdown",
   "metadata": {},
   "source": [
    "Если совсем не получается запрограммировать нейронную сеть самостоятельно, обратитесь к туториалу тут: https://github.com/divamgupta/lstm-gender-predictor"
   ]
  },
  {
   "cell_type": "code",
   "execution_count": null,
   "metadata": {
    "collapsed": true
   },
   "outputs": [],
   "source": [
    "from sklearn.utils import shuffle\n",
    "\n",
    "from keras.preprocessing.text import Tokenizer\n",
    "from keras.preprocessing.sequence import pad_sequences\n",
    "from keras.layers import LSTM, TimeDistributed, Bidirectional\n",
    "from keras.models import Sequential\n",
    "from keras.layers import Dense, Activation, Embedding, Flatten, Dropout"
   ]
  },
  {
   "cell_type": "code",
   "execution_count": null,
   "metadata": {
    "collapsed": true
   },
   "outputs": [],
   "source": [
    "model = Sequential()\n",
    "\n",
    "model.add(Embedding(len(alphabet)+2, 30, input_length=maxlen))\n",
    "model.add(LSTM(128, return_sequences = True))\n",
    "model.add(Dropout(0.5))\n",
    "model.add(LSTM(128, return_sequences = True))\n",
    "# model.add(TimeDistributed(Dense(len(alphabet)+2, activation = 'softmax'))) # может быть потом я пойму зачем это\n",
    "model.compile(loss='categorical_crossentropy', optimizer='adam', metrics=['accuracy'])"
   ]
  },
  {
   "cell_type": "code",
   "execution_count": null,
   "metadata": {
    "collapsed": true
   },
   "outputs": [],
   "source": [
    "for iteration in range(1, 100):\n",
    "    X_train_shuffled, y_train_shuffled = shuffle(X_train,y_train)\n",
    "    model.fit(X_train_shuffled, y_train_shuffled, batch_size=len(X_train), epochs=1, verbose = 0)"
   ]
  },
  {
   "cell_type": "code",
   "execution_count": null,
   "metadata": {
    "collapsed": true
   },
   "outputs": [],
   "source": [
    "preds = model.predict(X_test, verbose=0)[0]"
   ]
  },
  {
   "cell_type": "markdown",
   "metadata": {},
   "source": [
    "##  Часть 4. Сомнительная \n",
    "\n",
    "### Визуализация [1 балл]\n",
    "\n",
    "Побочным продуктом обучения нейронной сети будут эмбеддинги символов – 26 векторов для всех букв латинского алфавита. Попробуйте использовать разные методы снижения размерности – SVD или TSNE – и изобразить точки, соответствующие разным символам, на плоскости. Получаются ли осмысленные и интерпретируемые кластеры? "
   ]
  }
 ],
 "metadata": {
  "kernelspec": {
   "display_name": "Python 3",
   "language": "python",
   "name": "python3"
  },
  "language_info": {
   "codemirror_mode": {
    "name": "ipython",
    "version": 3
   },
   "file_extension": ".py",
   "mimetype": "text/x-python",
   "name": "python",
   "nbconvert_exporter": "python",
   "pygments_lexer": "ipython3",
   "version": "3.6.4"
  }
 },
 "nbformat": 4,
 "nbformat_minor": 2
}
