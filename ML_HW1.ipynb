{
 "cells": [
  {
   "cell_type": "markdown",
   "metadata": {},
   "source": [
    "# Домашнее задание по ML №1"
   ]
  },
  {
   "cell_type": "markdown",
   "metadata": {
    "collapsed": true
   },
   "source": [
    "Результат выполнения задания — это отчёт в формате html на основе Jupyter Notebook. Нормальный отчёт должен включать в себя:\n",
    "\n",
    "* Краткую постановку задачи и формулировку задания\n",
    "* Описание минимума необходимой теории и/или описание используемых инструментов - не стоит переписывать лекции или Википедию\n",
    "* Подробный пошаговый рассказ о проделанной работе\n",
    "* Аккуратно оформленные результаты\n",
    "* Внятные выводы – не стоит относится к домашнему заданию как к последовательности сугубо технических шагов, а стоит относится скорее как к небольшому практическому исследованию, у которого есть своя цель и свое назначение."
   ]
  },
  {
   "cell_type": "code",
   "execution_count": 17,
   "metadata": {},
   "outputs": [
    {
     "ename": "ImportError",
     "evalue": "No module named 'nltk'",
     "output_type": "error",
     "traceback": [
      "\u001b[0;31m---------------------------------------------------------------------------\u001b[0m",
      "\u001b[0;31mImportError\u001b[0m                               Traceback (most recent call last)",
      "\u001b[0;32m<ipython-input-17-6cf5a7bbfffc>\u001b[0m in \u001b[0;36m<module>\u001b[0;34m()\u001b[0m\n\u001b[1;32m      2\u001b[0m \u001b[0;32mimport\u001b[0m \u001b[0mnumpy\u001b[0m \u001b[0;32mas\u001b[0m \u001b[0mnp\u001b[0m\u001b[0;34m\u001b[0m\u001b[0m\n\u001b[1;32m      3\u001b[0m \u001b[0;32mimport\u001b[0m \u001b[0mpandas\u001b[0m \u001b[0;32mas\u001b[0m \u001b[0mpd\u001b[0m\u001b[0;34m\u001b[0m\u001b[0m\n\u001b[0;32m----> 4\u001b[0;31m \u001b[0;32mimport\u001b[0m \u001b[0mnltk\u001b[0m\u001b[0;34m\u001b[0m\u001b[0m\n\u001b[0m\u001b[1;32m      5\u001b[0m \u001b[0;32mimport\u001b[0m \u001b[0mmatplotlib\u001b[0m\u001b[0;34m.\u001b[0m\u001b[0mpyplot\u001b[0m \u001b[0;32mas\u001b[0m \u001b[0mplt\u001b[0m\u001b[0;34m\u001b[0m\u001b[0m\n\u001b[1;32m      6\u001b[0m \u001b[0;32mfrom\u001b[0m \u001b[0msklearn\u001b[0m\u001b[0;34m.\u001b[0m\u001b[0mmodel_selection\u001b[0m \u001b[0;32mimport\u001b[0m \u001b[0mtrain_test_split\u001b[0m\u001b[0;34m\u001b[0m\u001b[0m\n",
      "\u001b[0;31mImportError\u001b[0m: No module named 'nltk'"
     ]
    }
   ],
   "source": [
    "# coding: utf-8\n",
    "import numpy as np\n",
    "import pandas as pd\n",
    "import nltk\n",
    "import matplotlib.pyplot as plt\n",
    "from sklearn.model_selection import train_test_split\n",
    "from sklearn.linear_model import LogisticRegression\n",
    "from sklearn.metrics import classification_report, confusion_matrix\n",
    "\n",
    "import seaborn as sns\n",
    "\n",
    "%matplotlib inline"
   ]
  },
  {
   "cell_type": "markdown",
   "metadata": {},
   "source": [
    "## Часть 1. Предварительная обработка текстов"
   ]
  },
  {
   "cell_type": "markdown",
   "metadata": {},
   "source": [
    "Проведите предобработку новостей: токенизацию, приведение к нижнему регистру, лемматизацию. Проверьте, есть ли в коллекции дубликаты. Посчитайте, сколько новостей относится к каждому резонансному событию."
   ]
  },
  {
   "cell_type": "code",
   "execution_count": 14,
   "metadata": {},
   "outputs": [],
   "source": [
    "df_events = pd.read_csv('events.csv')\n",
    "df_news = pd.read_csv('raw_news.csv', index_col='id')"
   ]
  },
  {
   "cell_type": "code",
   "execution_count": 15,
   "metadata": {},
   "outputs": [
    {
     "name": "stdout",
     "output_type": "stream",
     "text": [
      "          text                                                               \n",
      "         count unique                                                top freq\n",
      "event_id                                                                     \n",
      "1          100    100   Эхо России (ehorussia.com), Москва, 13 января...    1\n",
      "2           51     51   Известия (iz.ru), Москва, 20 января 2017 ДОНА...    1\n",
      "3           84     84   ГосНовости (rusgosnews.com), Москва, 20 февра...    1\n",
      "4           62     62   NewsRu.com, Москва, 2 марта 2017 ФБК ПОТРЕБОВ...    1\n",
      "5            2      2   CNN: ВЛАДИМИР ПУТИН - САМЫЙ МОГУЩЕСТВЕННЫЙ ЧЕ...    1\n",
      "6           41     41   News2 (news2.ru), Москва, 20 марта 2017 УМЕР ...    1\n",
      "7          100    100   НТВ (ntv.ru), Москва, 23 марта 2017 БРИТАНСКИ...    1\n",
      "8           27     27   The Russian Times (therussiantimes.com), Моск...    1\n",
      "9           82     76   Коммерсантъ. Новости информ. центра, Москва, ...    2\n",
      "10         100    100   RTVi (rtvi.com), Москва, 27 марта 2017 СПИКЕР...    1\n",
      "11          49     49   ТАСС # Единая лента (Закрытая лента), Москва,...    1\n",
      "12         100    100   1nnc.net, Москва, 1 апреля 2017 МАРИЯ ЕВТУШЕН...    1\n",
      "13          24     24   ЧЕМ ЗАВЕРШИЛИСЬ ПЕРЕГОВОРЫ ПУТИНА И ЛАВРОВА С...    1\n",
      "14           2      2   Вести.ru, Москва, 19 апреля 2017 МЕДВЕДЕВ: НА...    1\n",
      "15           7      7   РИА Новости, Москва, 29 апреля 2017 НА НЕСАНК...    1\n",
      "16         100    100   Каспаров.ru (kasparov.ru), Москва, 3 мая 2017...    1\n",
      "17         102    102   Р-Спорт, Москва, 17 мая 2017 ЕСЛИ \"КУЗНЮ\" ИСК...    1\n",
      "18         100    100   Яндекс.Новости (news.yandex.ru), Москва, 7 ма...    1\n",
      "19          45     45   Радио Свобода (svoboda.org), Москва, 7 мая 20...    1\n",
      "20           8      8   ПОСЛЕСЛОВИЕ К МИТИНГАМ ПРОТИВ РЕНОВАЦИИ В МОС...    1\n",
      "21         100    100   News.hi.ru, Москва, 30 мая 2017 МОСКВА ВЫПЛАТ...    1\n",
      "22          82     82   Top100News (cmk1.ru), Москва, 10 июня 2017 ТР...    1\n",
      "23         100    100   Rusevik.ru, Москва, 13 июня 2017 РАДОВАВШИЕСЯ...    1\n",
      "24          62     62   Unionnews.ru, Москва, 15 июня 2017 ПЕСКОВ: ПУ...    1\n",
      "25         100    100   Спорт экспресс (sport-express.ru), Москва, 19...    1\n",
      "26         100    100   Пульс Планеты 24/7 (puls-planety247.ru), Моск...    1\n",
      "27         100    100   РИА Новости, Москва, 18 августа 2017 МЕРКЕЛЬ ...    1\n",
      "28         100    100   РИА Новости, Москва, 10 сентября 2017 ВЫБОРЫ ...    1\n"
     ]
    }
   ],
   "source": [
    "print(df_news.groupby('event_id').describe())"
   ]
  },
  {
   "cell_type": "markdown",
   "metadata": {},
   "source": [
    "Дубликаты в девятом резонансном событии."
   ]
  },
  {
   "cell_type": "code",
   "execution_count": 16,
   "metadata": {},
   "outputs": [
    {
     "data": {
      "text/plain": [
       "<matplotlib.axes._subplots.AxesSubplot at 0x7fa76313ea20>"
      ]
     },
     "execution_count": 16,
     "metadata": {},
     "output_type": "execute_result"
    },
    {
     "data": {
      "image/png": "[encoded data removed]",
      "text/plain": [
       "<matplotlib.figure.Figure at 0x7fa78f78e6d8>"
      ]
     },
     "metadata": {},
     "output_type": "display_data"
    }
   ],
   "source": [
    "sns.countplot(x=df_news['event_id'], data=df_news, palette=\"Set3\")"
   ]
  },
  {
   "cell_type": "code",
   "execution_count": null,
   "metadata": {
    "collapsed": true
   },
   "outputs": [],
   "source": [
    "Из представленного выше графика видно, что данные неоднородны."
   ]
  }
 ],
 "metadata": {
  "kernelspec": {
   "display_name": "Python 3",
   "language": "python",
   "name": "python3"
  },
  "language_info": {
   "codemirror_mode": {
    "name": "ipython",
    "version": 3
   },
   "file_extension": ".py",
   "mimetype": "text/x-python",
   "name": "python",
   "nbconvert_exporter": "python",
   "pygments_lexer": "ipython3",
   "version": "3.5.2"
  }
 },
 "nbformat": 4,
 "nbformat_minor": 2
}
