{
 "cells": [
  {
   "cell_type": "code",
   "execution_count": 1,
   "metadata": {},
   "outputs": [
    {
     "name": "stderr",
     "output_type": "stream",
     "text": [
      "Using TensorFlow backend.\n"
     ]
    }
   ],
   "source": [
    "from keras.preprocessing.text import Tokenizer\n",
    "from keras.preprocessing.sequence import pad_sequences\n",
    "from keras.utils import np_utils\n",
    "from sklearn.preprocessing import LabelBinarizer, LabelEncoder\n",
    "\n",
    "from keras.layers import Embedding, Input, Conv1D, MaxPooling1D, Flatten, Dense, Dropout\n",
    "from keras.models import Model, Sequential\n",
    "\n",
    "import pandas as pd\n",
    "import numpy as np\n",
    "\n",
    "import seaborn as sns\n",
    "\n",
    "import matplotlib.pyplot as plt\n",
    "\n",
    "import random\n",
    "random.seed(1228)\n",
    "\n",
    "from sklearn.metrics import precision_score, recall_score, accuracy_score, classification_report, confusion_matrix\n",
    "\n",
    "%matplotlib inline"
   ]
  },
  {
   "cell_type": "markdown",
   "metadata": {},
   "source": [
    "### Часть 1 [2 балла] Подготовка данных\n",
    "1. Прочитайте размеченные данные Открытого корпуса, используя nltk.corpus.reader.conll.ConllCorpusReader\n",
    "2. Посчитайте количество предложений и число тегов частей речи;\n",
    "3. Сформируйте тестовое и обучающее множество: первые 3/4 данных – обучающее множество;\n",
    "\n",
    "Для каждого слова:\n",
    "1. Определите его окно (слова слева и справа) размера $k$;\n",
    "2. Сформируйте его вектор признаков."
   ]
  },
  {
   "cell_type": "markdown",
   "metadata": {},
   "source": [
    "#### Reading the data:"
   ]
  },
  {
   "cell_type": "code",
   "execution_count": 4,
   "metadata": {},
   "outputs": [],
   "source": [
    "from nltk.corpus.reader.conll import ConllCorpusReader"
   ]
  },
  {
   "cell_type": "code",
   "execution_count": 14,
   "metadata": {},
   "outputs": [
    {
     "data": {
      "text/plain": [
       "[[('«', 'PUNCT', '_'), ('Школа', 'NOUN', '_'), ('злословия', 'NOUN', '_'), ('»', 'PUNCT', '_'), ('учит', 'VERB', '_'), ('прикусить', 'VERB', '_'), ('язык', 'NOUN', '_')], [('Сохранится', 'VERB', '_'), ('ли', 'PART', '_'), ('градус', 'NOUN', '_'), ('дискуссии', 'NOUN', '_'), ('в', 'ADP', '_'), ('новом', 'ADJ', '_'), ('сезоне', 'NOUN', '_'), ('?', 'PUNCT', '_')], ...]"
      ]
     },
     "execution_count": 14,
     "metadata": {},
     "output_type": "execute_result"
    }
   ],
   "source": [
    "columns = ['ignore', 'words', 'ignore', 'pos', 'chunk']\n",
    "train_reader = ConllCorpusReader(root = '.', fileids = 'unamb_sent_14_6.conllu', columntypes = columns)\n",
    "\n",
    "\n",
    "sents = train_reader.iob_sents()\n",
    "train_reader.iob_sents()"
   ]
  },
  {
   "cell_type": "markdown",
   "metadata": {},
   "source": [
    "#### Считаем количество предложений и разных тэгов"
   ]
  },
  {
   "cell_type": "code",
   "execution_count": 28,
   "metadata": {},
   "outputs": [
    {
     "data": {
      "text/plain": [
       "38508"
      ]
     },
     "execution_count": 28,
     "metadata": {},
     "output_type": "execute_result"
    }
   ],
   "source": [
    "len(sents) # Предложений в корпусе 38508"
   ]
  },
  {
   "cell_type": "code",
   "execution_count": 21,
   "metadata": {},
   "outputs": [
    {
     "data": {
      "text/plain": [
       "['PUNCT',\n",
       " 'NOUN',\n",
       " 'NOUN',\n",
       " 'PUNCT',\n",
       " 'VERB',\n",
       " 'VERB',\n",
       " 'NOUN',\n",
       " 'VERB',\n",
       " 'PART',\n",
       " 'NOUN',\n",
       " 'NOUN',\n",
       " 'ADP',\n",
       " 'ADJ',\n",
       " 'NOUN',\n",
       " 'PUNCT']"
      ]
     },
     "execution_count": 21,
     "metadata": {},
     "output_type": "execute_result"
    }
   ],
   "source": [
    "#вытащим все тэги\n",
    "pos = [w[1] for sent in sents for w in sent]\n",
    "pos[:15]"
   ]
  },
  {
   "cell_type": "code",
   "execution_count": 22,
   "metadata": {},
   "outputs": [
    {
     "data": {
      "text/plain": [
       "14"
      ]
     },
     "execution_count": 22,
     "metadata": {},
     "output_type": "execute_result"
    }
   ],
   "source": [
    "# вот столько у нас разных тэгов\n",
    "len(set(pos))"
   ]
  },
  {
   "cell_type": "code",
   "execution_count": 25,
   "metadata": {},
   "outputs": [],
   "source": [
    "# а теперь посмотрим на частотное распределение тэгов \n",
    "from nltk import FreqDist\n",
    "fd_pos = FreqDist(pos)"
   ]
  },
  {
   "cell_type": "code",
   "execution_count": 26,
   "metadata": {},
   "outputs": [
    {
     "data": {
      "text/plain": [
       "FreqDist({'ADJ': 47487,\n",
       "          'ADP': 42835,\n",
       "          'ADV': 13079,\n",
       "          'CONJ': 21942,\n",
       "          'DET': 12689,\n",
       "          'INTJ': 452,\n",
       "          'NOUN': 121793,\n",
       "          'NUM': 10173,\n",
       "          'PART': 8923,\n",
       "          'PRON': 9067,\n",
       "          'PROPN': 14889,\n",
       "          'PUNCT': 91323,\n",
       "          'VERB': 41538,\n",
       "          'X': 21393})"
      ]
     },
     "execution_count": 26,
     "metadata": {},
     "output_type": "execute_result"
    }
   ],
   "source": [
    "fd_pos"
   ]
  },
  {
   "cell_type": "markdown",
   "metadata": {},
   "source": [
    "Как мы видим, самые частые -- прилагательные и предлоги (о_О)"
   ]
  },
  {
   "cell_type": "markdown",
   "metadata": {},
   "source": [
    "#### Сформируем тестовую и тренировочную выборки для тэгов\n",
    "\n",
    "Итак, вектор POS у нас есть: `pos`. Теперь сделаем вектор признаков. Для удобства мы решили убрать информацию о границах предложений."
   ]
  },
  {
   "cell_type": "code",
   "execution_count": 44,
   "metadata": {},
   "outputs": [
    {
     "data": {
      "text/plain": [
       "['«',\n",
       " 'Школа',\n",
       " 'злословия',\n",
       " '»',\n",
       " 'учит',\n",
       " 'прикусить',\n",
       " 'язык',\n",
       " 'Сохранится',\n",
       " 'ли',\n",
       " 'градус',\n",
       " 'дискуссии',\n",
       " 'в',\n",
       " 'новом',\n",
       " 'сезоне',\n",
       " '?',\n",
       " 'Великолепная',\n",
       " '«',\n",
       " 'Школа',\n",
       " 'злословия',\n",
       " '»']"
      ]
     },
     "execution_count": 44,
     "metadata": {},
     "output_type": "execute_result"
    }
   ],
   "source": [
    "words = [word[0] for sent in sents for word in sent]\n",
    "words[:20]"
   ]
  },
  {
   "cell_type": "markdown",
   "metadata": {},
   "source": [
    "Извлечение признаков:"
   ]
  },
  {
   "cell_type": "code",
   "execution_count": 46,
   "metadata": {},
   "outputs": [],
   "source": [
    "embeddingsPath = './wiki.ru.vec'"
   ]
  },
  {
   "cell_type": "code",
   "execution_count": 54,
   "metadata": {},
   "outputs": [],
   "source": [
    "def extract_embeddings(path):\n",
    "    embeddings = {}\n",
    "    with open(embeddingsPath) as f:\n",
    "        for line in f:\n",
    "            word, vec = line.split(' ', 1)\n",
    "            embeddings[word] = [float(num) for num in vec.split()]\n",
    "    return embeddings\n",
    "\n",
    "embeddings = extract_embeddings(embeddingsPath)"
   ]
  },
  {
   "cell_type": "code",
   "execution_count": 55,
   "metadata": {},
   "outputs": [
    {
     "data": {
      "text/plain": [
       "[-0.32315,\n",
       " 0.91456,\n",
       " 0.13797,\n",
       " 0.61075,\n",
       " -0.28406,\n",
       " -0.47918,\n",
       " -0.27341,\n",
       " 0.17947,\n",
       " 0.54726,\n",
       " -0.47914,\n",
       " -0.20418,\n",
       " 0.12833,\n",
       " 0.1399,\n",
       " 0.26005,\n",
       " 0.53394,\n",
       " -0.0071751,\n",
       " -0.7064,\n",
       " -0.72035,\n",
       " 0.52635,\n",
       " 0.26623,\n",
       " -0.2057,\n",
       " -0.19932,\n",
       " -0.22531,\n",
       " -0.40999,\n",
       " -0.23029,\n",
       " -0.3556,\n",
       " 0.052551,\n",
       " -0.17581,\n",
       " 0.37426,\n",
       " 0.6961,\n",
       " -0.10287,\n",
       " 0.096703,\n",
       " 0.1357,\n",
       " -0.050066,\n",
       " -0.080225,\n",
       " 0.63446,\n",
       " 0.52929,\n",
       " -0.68261,\n",
       " 0.14481,\n",
       " 0.38492,\n",
       " -0.029405,\n",
       " -0.051461,\n",
       " 0.11573,\n",
       " 0.11116,\n",
       " -0.10452,\n",
       " -0.27637,\n",
       " 0.023329,\n",
       " -0.34237,\n",
       " 0.081127,\n",
       " -0.55629,\n",
       " 0.084345,\n",
       " -0.2759,\n",
       " 0.088321,\n",
       " 0.16879,\n",
       " 0.49636,\n",
       " -0.039692,\n",
       " 0.4441,\n",
       " 0.43682,\n",
       " 0.49919,\n",
       " -0.47123,\n",
       " 0.26761,\n",
       " -0.36185,\n",
       " -0.22721,\n",
       " 0.32502,\n",
       " 0.11182,\n",
       " -0.38456,\n",
       " 0.0081887,\n",
       " 0.73195,\n",
       " 0.50026,\n",
       " -0.25915,\n",
       " -0.27511,\n",
       " 0.054941,\n",
       " -0.31678,\n",
       " 0.024292,\n",
       " -0.23829,\n",
       " 0.11533,\n",
       " -0.29501,\n",
       " -0.089492,\n",
       " 0.11684,\n",
       " 0.021585,\n",
       " -0.22037,\n",
       " 0.011673,\n",
       " -0.29228,\n",
       " 0.2409,\n",
       " -0.05682,\n",
       " 0.099456,\n",
       " -0.016484,\n",
       " 0.24158,\n",
       " 0.35266,\n",
       " 0.42744,\n",
       " -0.33701,\n",
       " 0.17153,\n",
       " 0.19474,\n",
       " 0.33683,\n",
       " -0.076993,\n",
       " 0.05401,\n",
       " -0.2651,\n",
       " -0.2901,\n",
       " -0.15213,\n",
       " -0.11465,\n",
       " -0.16936,\n",
       " -0.15719,\n",
       " -0.19326,\n",
       " -0.79496,\n",
       " 0.25045,\n",
       " 0.17557,\n",
       " -0.31225,\n",
       " -0.23019,\n",
       " 0.30624,\n",
       " 0.42426,\n",
       " 0.060749,\n",
       " 0.030271,\n",
       " 0.18676,\n",
       " 0.38516,\n",
       " -0.10551,\n",
       " 0.14042,\n",
       " 0.42984,\n",
       " 0.10839,\n",
       " -0.3236,\n",
       " 0.067361,\n",
       " 0.13917,\n",
       " -0.075125,\n",
       " 0.14848,\n",
       " -0.19175,\n",
       " 0.18164,\n",
       " -0.15545,\n",
       " -0.38751,\n",
       " -0.24678,\n",
       " 0.63802,\n",
       " -0.10436,\n",
       " 0.31785,\n",
       " 0.027874,\n",
       " 0.2545,\n",
       " -0.48814,\n",
       " -0.30006,\n",
       " 0.27476,\n",
       " -0.19499,\n",
       " 0.062601,\n",
       " 0.32268,\n",
       " 0.17894,\n",
       " 0.27837,\n",
       " 0.18539,\n",
       " 0.20922,\n",
       " 0.039569,\n",
       " 0.2016,\n",
       " -0.4325,\n",
       " 0.16124,\n",
       " 0.061324,\n",
       " 0.10223,\n",
       " -0.29947,\n",
       " -0.0094288,\n",
       " -0.17785,\n",
       " 0.29467,\n",
       " 0.30908,\n",
       " 0.23578,\n",
       " 0.2432,\n",
       " 0.18036,\n",
       " -0.54074,\n",
       " 0.48145,\n",
       " -0.33007,\n",
       " -0.19964,\n",
       " -0.14657,\n",
       " 0.056862,\n",
       " -0.12527,\n",
       " 0.064564,\n",
       " 0.21162,\n",
       " 0.54823,\n",
       " -0.46573,\n",
       " -0.009138,\n",
       " 0.61275,\n",
       " -0.67082,\n",
       " 0.69798,\n",
       " 0.050464,\n",
       " 0.16687,\n",
       " 0.0067255,\n",
       " 0.18796,\n",
       " -0.25361,\n",
       " -0.2902,\n",
       " -0.28102,\n",
       " -0.02478,\n",
       " -0.25846,\n",
       " -0.22801,\n",
       " 0.0018438,\n",
       " -0.11613,\n",
       " -0.22832,\n",
       " -0.31335,\n",
       " 0.14314,\n",
       " -0.32749,\n",
       " 0.32431,\n",
       " 0.11945,\n",
       " -0.13591,\n",
       " -0.028833,\n",
       " -0.091701,\n",
       " 0.014702,\n",
       " 0.068395,\n",
       " -1.0775,\n",
       " -0.10025,\n",
       " -0.17026,\n",
       " 0.29289,\n",
       " -0.10567,\n",
       " 0.0064003,\n",
       " 0.36912,\n",
       " 0.11907,\n",
       " 0.34796,\n",
       " 0.47704,\n",
       " -0.075714,\n",
       " 0.37044,\n",
       " 0.22877,\n",
       " -0.076405,\n",
       " 0.44279,\n",
       " 0.3152,\n",
       " -0.4237,\n",
       " -0.33402,\n",
       " 0.12134,\n",
       " 0.067684,\n",
       " -0.10405,\n",
       " -0.32783,\n",
       " -0.091799,\n",
       " 0.59649,\n",
       " 0.073715,\n",
       " -0.3249,\n",
       " 0.63617,\n",
       " -0.36033,\n",
       " -0.376,\n",
       " -0.23032,\n",
       " -0.48274,\n",
       " 0.2088,\n",
       " -0.00089504,\n",
       " 0.11283,\n",
       " 0.30081,\n",
       " -0.45994,\n",
       " 0.81958,\n",
       " 0.34488,\n",
       " -0.15846,\n",
       " -0.21443,\n",
       " 0.67408,\n",
       " -0.10466,\n",
       " -0.5666,\n",
       " -0.19578,\n",
       " 0.47045,\n",
       " -0.58106,\n",
       " 0.088744,\n",
       " -0.46703,\n",
       " 0.44347,\n",
       " 0.37062,\n",
       " -0.13959,\n",
       " -0.12797,\n",
       " -0.20677,\n",
       " 0.55069,\n",
       " -0.0071044,\n",
       " 0.27293,\n",
       " -0.72012,\n",
       " 0.14783,\n",
       " -0.17312,\n",
       " -0.13065,\n",
       " 0.046283,\n",
       " 0.077991,\n",
       " 0.1011,\n",
       " -0.087214,\n",
       " -0.31749,\n",
       " -0.17776,\n",
       " -0.36049,\n",
       " 0.18347,\n",
       " 0.096671,\n",
       " 0.18942,\n",
       " 0.22337,\n",
       " -0.050386,\n",
       " -0.3265,\n",
       " 0.22551,\n",
       " 0.16696,\n",
       " 0.0046817,\n",
       " 0.012787,\n",
       " -0.067565,\n",
       " 0.36073,\n",
       " -0.58714,\n",
       " 0.17441,\n",
       " 0.43296,\n",
       " 0.032052,\n",
       " -0.002852,\n",
       " -0.29342,\n",
       " 0.22191,\n",
       " 0.3921,\n",
       " 0.32013,\n",
       " 0.008883,\n",
       " 0.41278,\n",
       " 0.07555,\n",
       " 0.045697,\n",
       " 0.21056,\n",
       " -0.039174,\n",
       " 0.19133,\n",
       " -0.45326,\n",
       " 0.29813,\n",
       " 0.54127,\n",
       " 0.20157,\n",
       " -0.26974,\n",
       " -0.49827,\n",
       " 0.68838,\n",
       " 0.22742,\n",
       " 0.32273,\n",
       " 0.29185]"
      ]
     },
     "execution_count": 55,
     "metadata": {},
     "output_type": "execute_result"
    }
   ],
   "source": [
    "embeddings['школа']"
   ]
  },
  {
   "cell_type": "code",
   "execution_count": 56,
   "metadata": {},
   "outputs": [
    {
     "data": {
      "text/plain": [
       "300"
      ]
     },
     "execution_count": 56,
     "metadata": {},
     "output_type": "execute_result"
    }
   ],
   "source": [
    "len(embeddings['школа'])"
   ]
  },
  {
   "cell_type": "code",
   "execution_count": 57,
   "metadata": {},
   "outputs": [],
   "source": [
    "# создаём вектора для начала и конца\n",
    "BOF = [0] * 300\n",
    "EOF = [0] * 300"
   ]
  },
  {
   "cell_type": "code",
   "execution_count": 58,
   "metadata": {},
   "outputs": [],
   "source": [
    "# k == 2\n",
    "def extract_featues(tokens):\n",
    "    features = []\n",
    "    for i, word in enumerate(tokens):\n",
    "        cur_word = embeddings[word]\n",
    "        prev_word = embedding[tokens[i - 1]]\n",
    "        next_word = embedding[tokens[i + 1]]\n",
    "        features.append(cur_word + prev_word + next_word)\n",
    "    return features"
   ]
  },
  {
   "cell_type": "code",
   "execution_count": null,
   "metadata": {},
   "outputs": [],
   "source": []
  },
  {
   "cell_type": "code",
   "execution_count": null,
   "metadata": {},
   "outputs": [],
   "source": [
    "len(featueres)"
   ]
  },
  {
   "cell_type": "code",
   "execution_count": 45,
   "metadata": {},
   "outputs": [
    {
     "name": "stdout",
     "output_type": "stream",
     "text": [
      "343185\n",
      "114398\n"
     ]
    }
   ],
   "source": [
    "boundary = (len(pos) // 4) * 3\n",
    "y_train = pos[:boundary]\n",
    "y_test = pos[boundary:]\n",
    "\n",
    "print(len(y_train))\n",
    "print(len(y_test))"
   ]
  },
  {
   "cell_type": "markdown",
   "metadata": {},
   "source": [
    "### Часть 2 [4 баллов] Архитектура нейронной сети\n",
    "\n",
    "Архитектура нейронной сети состоит из следующих слов:\n",
    "1. Входной слой: нейронная сеть получает на вход вектор признаков, состоящий из $k$ конкатенированных эмбеддингов;/\n",
    "2. Скрытый слой: $n_h$ нейронов и нелинейная функция активации $\\theta$;\n",
    "3. Выходной слой:  $|T|$ нейронов для итоговой классификации.\n",
    "\n",
    "Обучите нейронную сеть на обучающих данных."
   ]
  },
  {
   "cell_type": "markdown",
   "metadata": {},
   "source": [
    "я бы поставила семь, конечно, но можно и три пока а это для последнего задания"
   ]
  },
  {
   "cell_type": "code",
   "execution_count": null,
   "metadata": {},
   "outputs": [],
   "source": [
    "TEXT_LENGTH = 1800\n",
    "VOCABULARY_SIZE = 250000\n",
    "EMBEDDING_DIM = 300\n",
    "DIMS = 250\n",
    "MAX_FEATURES = 5000\n",
    "batch_size = 32\n",
    "\n",
    "nb_filter = 250\n",
    "filter_length = 3\n",
    "hidden_dims = 250\n",
    "nb_epoch = 10"
   ]
  },
  {
   "cell_type": "code",
   "execution_count": null,
   "metadata": {},
   "outputs": [],
   "source": [
    "tokenizer = Tokenizer(num_words=MAX_FEATURES)\n",
    "tokenizer.fit_on_texts(train_corpus.body)\n",
    "tokenizer"
   ]
  },
  {
   "cell_type": "code",
   "execution_count": 42,
   "metadata": {},
   "outputs": [
    {
     "ename": "NameError",
     "evalue": "name 'train_s' is not defined",
     "output_type": "error",
     "traceback": [
      "\u001b[0;31m---------------------------------------------------------------------------\u001b[0m",
      "\u001b[0;31mNameError\u001b[0m                                 Traceback (most recent call last)",
      "\u001b[0;32m<ipython-input-42-b0f3b10b8654>\u001b[0m in \u001b[0;36m<module>\u001b[0;34m()\u001b[0m\n\u001b[0;32m----> 1\u001b[0;31m \u001b[0msequences\u001b[0m \u001b[0;34m=\u001b[0m \u001b[0mtokenizer\u001b[0m\u001b[0;34m.\u001b[0m\u001b[0mtexts_to_sequences\u001b[0m\u001b[0;34m(\u001b[0m\u001b[0mtrain_s\u001b[0m\u001b[0;34m.\u001b[0m\u001b[0mbody\u001b[0m\u001b[0;34m)\u001b[0m\u001b[0;34m\u001b[0m\u001b[0m\n\u001b[0m\u001b[1;32m      2\u001b[0m \u001b[0mX_train\u001b[0m \u001b[0;34m=\u001b[0m \u001b[0mtokenizer\u001b[0m\u001b[0;34m.\u001b[0m\u001b[0msequences_to_matrix\u001b[0m\u001b[0;34m(\u001b[0m\u001b[0msequences\u001b[0m\u001b[0;34m,\u001b[0m \u001b[0mmode\u001b[0m\u001b[0;34m=\u001b[0m\u001b[0;34m'count'\u001b[0m\u001b[0;34m)\u001b[0m\u001b[0;34m\u001b[0m\u001b[0m\n\u001b[1;32m      3\u001b[0m \u001b[0msequences\u001b[0m \u001b[0;34m=\u001b[0m \u001b[0mtokenizer\u001b[0m\u001b[0;34m.\u001b[0m\u001b[0mtexts_to_sequences\u001b[0m\u001b[0;34m(\u001b[0m\u001b[0mtest_corpus\u001b[0m\u001b[0;34m.\u001b[0m\u001b[0mbody\u001b[0m\u001b[0;34m)\u001b[0m\u001b[0;34m\u001b[0m\u001b[0m\n\u001b[1;32m      4\u001b[0m \u001b[0mX_test\u001b[0m \u001b[0;34m=\u001b[0m \u001b[0mtokenizer\u001b[0m\u001b[0;34m.\u001b[0m\u001b[0msequences_to_matrix\u001b[0m\u001b[0;34m(\u001b[0m\u001b[0msequences\u001b[0m\u001b[0;34m,\u001b[0m \u001b[0mmode\u001b[0m\u001b[0;34m=\u001b[0m\u001b[0;34m'count'\u001b[0m\u001b[0;34m)\u001b[0m\u001b[0;34m\u001b[0m\u001b[0m\n",
      "\u001b[0;31mNameError\u001b[0m: name 'train_s' is not defined"
     ]
    }
   ],
   "source": [
    "sequences = tokenizer.texts_to_sequences(train_s.body)\n",
    "X_train = tokenizer.sequences_to_matrix(sequences, mode='count')\n",
    "sequences = tokenizer.texts_to_sequences(test_corpus.body)\n",
    "X_test = tokenizer.sequences_to_matrix(sequences, mode='count')"
   ]
  },
  {
   "cell_type": "markdown",
   "metadata": {},
   "source": [
    "Посмотреть какая именно архитектура сенны"
   ]
  },
  {
   "cell_type": "code",
   "execution_count": null,
   "metadata": {
    "collapsed": true
   },
   "outputs": [],
   "source": [
    "model = Sequential()\n",
    "model.add(Embedding(VOCABULARY_SIZE, EMBEDDING_DIM, input_length=TEXT_LENGTH))\n",
    "model.add(Flatten())\n",
    "model.add(Dense(5, activation = 'softmax'))\n",
    "model.add(Dropout(0.5))\n",
    "# model.compile(optimizer='adam', loss='binary_crossentropy', metrics=['acc'])\n",
    "model.compile(loss='categorical_crossentropy', optimizer='adam', metrics=['accuracy'])\n",
    "model.fit(X_train, y_train, epochs=nb_epoch, batch_size=batch_size,  validation_split=0.1)"
   ]
  }
 ],
 "metadata": {
  "kernelspec": {
   "display_name": "Python 3",
   "language": "python",
   "name": "python3"
  },
  "language_info": {
   "codemirror_mode": {
    "name": "ipython",
    "version": 3
   },
   "file_extension": ".py",
   "mimetype": "text/x-python",
   "name": "python",
   "nbconvert_exporter": "python",
   "pygments_lexer": "ipython3",
   "version": "3.6.4"
  }
 },
 "nbformat": 4,
 "nbformat_minor": 2
}
